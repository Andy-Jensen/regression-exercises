{
 "cells": [
  {
   "cell_type": "code",
   "execution_count": 1,
   "id": "f872defd",
   "metadata": {},
   "outputs": [],
   "source": [
    "import numpy as np\n",
    "import pandas as pd\n",
    "from wrangle import wrangle_zillow\n",
    "from wrangle import tts_con\n",
    "import seaborn as sns\n",
    "import matplotlib.pyplot as plt\n",
    "from scipy import stats\n",
    "import sklearn.preprocessing\n",
    "from sklearn.preprocessing import MinMaxScaler\n",
    "from sklearn.preprocessing import StandardScaler\n",
    "from sklearn.preprocessing import RobustScaler\n",
    "from sklearn.preprocessing import QuantileTransformer"
   ]
  },
  {
   "cell_type": "code",
   "execution_count": 2,
   "id": "6d07926b",
   "metadata": {},
   "outputs": [
    {
     "data": {
      "text/html": [
       "<div>\n",
       "<style scoped>\n",
       "    .dataframe tbody tr th:only-of-type {\n",
       "        vertical-align: middle;\n",
       "    }\n",
       "\n",
       "    .dataframe tbody tr th {\n",
       "        vertical-align: top;\n",
       "    }\n",
       "\n",
       "    .dataframe thead th {\n",
       "        text-align: right;\n",
       "    }\n",
       "</style>\n",
       "<table border=\"1\" class=\"dataframe\">\n",
       "  <thead>\n",
       "    <tr style=\"text-align: right;\">\n",
       "      <th></th>\n",
       "      <th>bedroom_count</th>\n",
       "      <th>bathroom_count</th>\n",
       "      <th>calc_finished_square_ft</th>\n",
       "      <th>tax_value_dollar_count</th>\n",
       "      <th>year_built</th>\n",
       "      <th>tax_amount</th>\n",
       "      <th>fips_code</th>\n",
       "    </tr>\n",
       "  </thead>\n",
       "  <tbody>\n",
       "    <tr>\n",
       "      <th>0</th>\n",
       "      <td>4.0</td>\n",
       "      <td>2.0</td>\n",
       "      <td>3633.0</td>\n",
       "      <td>296425.0</td>\n",
       "      <td>2005.0</td>\n",
       "      <td>6941.39</td>\n",
       "      <td>6037.0</td>\n",
       "    </tr>\n",
       "    <tr>\n",
       "      <th>1</th>\n",
       "      <td>3.0</td>\n",
       "      <td>4.0</td>\n",
       "      <td>1620.0</td>\n",
       "      <td>847770.0</td>\n",
       "      <td>2011.0</td>\n",
       "      <td>10244.94</td>\n",
       "      <td>6037.0</td>\n",
       "    </tr>\n",
       "    <tr>\n",
       "      <th>2</th>\n",
       "      <td>3.0</td>\n",
       "      <td>2.0</td>\n",
       "      <td>2077.0</td>\n",
       "      <td>646760.0</td>\n",
       "      <td>1926.0</td>\n",
       "      <td>7924.68</td>\n",
       "      <td>6037.0</td>\n",
       "    </tr>\n",
       "    <tr>\n",
       "      <th>3</th>\n",
       "      <td>0.0</td>\n",
       "      <td>0.0</td>\n",
       "      <td>1200.0</td>\n",
       "      <td>5328.0</td>\n",
       "      <td>1972.0</td>\n",
       "      <td>91.60</td>\n",
       "      <td>6037.0</td>\n",
       "    </tr>\n",
       "    <tr>\n",
       "      <th>4</th>\n",
       "      <td>0.0</td>\n",
       "      <td>0.0</td>\n",
       "      <td>171.0</td>\n",
       "      <td>6920.0</td>\n",
       "      <td>1973.0</td>\n",
       "      <td>255.17</td>\n",
       "      <td>6037.0</td>\n",
       "    </tr>\n",
       "  </tbody>\n",
       "</table>\n",
       "</div>"
      ],
      "text/plain": [
       "   bedroom_count  bathroom_count  calc_finished_square_ft  \\\n",
       "0            4.0             2.0                   3633.0   \n",
       "1            3.0             4.0                   1620.0   \n",
       "2            3.0             2.0                   2077.0   \n",
       "3            0.0             0.0                   1200.0   \n",
       "4            0.0             0.0                    171.0   \n",
       "\n",
       "   tax_value_dollar_count  year_built  tax_amount  fips_code  \n",
       "0                296425.0      2005.0     6941.39     6037.0  \n",
       "1                847770.0      2011.0    10244.94     6037.0  \n",
       "2                646760.0      1926.0     7924.68     6037.0  \n",
       "3                  5328.0      1972.0       91.60     6037.0  \n",
       "4                  6920.0      1973.0      255.17     6037.0  "
      ]
     },
     "execution_count": 2,
     "metadata": {},
     "output_type": "execute_result"
    }
   ],
   "source": [
    "zillow=wrangle_zillow()\n",
    "zillow.head()"
   ]
  },
  {
   "cell_type": "code",
   "execution_count": 3,
   "id": "2bdd3dce",
   "metadata": {},
   "outputs": [
    {
     "data": {
      "text/plain": [
       "bedroom_count              0\n",
       "bathroom_count             0\n",
       "calc_finished_square_ft    0\n",
       "tax_value_dollar_count     0\n",
       "year_built                 0\n",
       "tax_amount                 0\n",
       "fips_code                  0\n",
       "dtype: int64"
      ]
     },
     "execution_count": 3,
     "metadata": {},
     "output_type": "execute_result"
    }
   ],
   "source": [
    "zillow.isnull().sum()"
   ]
  },
  {
   "cell_type": "code",
   "execution_count": 4,
   "id": "37d934ca",
   "metadata": {},
   "outputs": [
    {
     "data": {
      "text/html": [
       "<div>\n",
       "<style scoped>\n",
       "    .dataframe tbody tr th:only-of-type {\n",
       "        vertical-align: middle;\n",
       "    }\n",
       "\n",
       "    .dataframe tbody tr th {\n",
       "        vertical-align: top;\n",
       "    }\n",
       "\n",
       "    .dataframe thead th {\n",
       "        text-align: right;\n",
       "    }\n",
       "</style>\n",
       "<table border=\"1\" class=\"dataframe\">\n",
       "  <thead>\n",
       "    <tr style=\"text-align: right;\">\n",
       "      <th></th>\n",
       "      <th>bedroom_count</th>\n",
       "      <th>bathroom_count</th>\n",
       "      <th>calc_finished_square_ft</th>\n",
       "      <th>tax_value_dollar_count</th>\n",
       "      <th>year_built</th>\n",
       "      <th>tax_amount</th>\n",
       "      <th>fips_code</th>\n",
       "    </tr>\n",
       "  </thead>\n",
       "  <tbody>\n",
       "    <tr>\n",
       "      <th>0</th>\n",
       "      <td>4.0</td>\n",
       "      <td>2.0</td>\n",
       "      <td>3633.0</td>\n",
       "      <td>296425.0</td>\n",
       "      <td>2005.0</td>\n",
       "      <td>6941.39</td>\n",
       "      <td>6037.0</td>\n",
       "    </tr>\n",
       "    <tr>\n",
       "      <th>1</th>\n",
       "      <td>3.0</td>\n",
       "      <td>4.0</td>\n",
       "      <td>1620.0</td>\n",
       "      <td>847770.0</td>\n",
       "      <td>2011.0</td>\n",
       "      <td>10244.94</td>\n",
       "      <td>6037.0</td>\n",
       "    </tr>\n",
       "    <tr>\n",
       "      <th>2</th>\n",
       "      <td>3.0</td>\n",
       "      <td>2.0</td>\n",
       "      <td>2077.0</td>\n",
       "      <td>646760.0</td>\n",
       "      <td>1926.0</td>\n",
       "      <td>7924.68</td>\n",
       "      <td>6037.0</td>\n",
       "    </tr>\n",
       "    <tr>\n",
       "      <th>3</th>\n",
       "      <td>0.0</td>\n",
       "      <td>0.0</td>\n",
       "      <td>1200.0</td>\n",
       "      <td>5328.0</td>\n",
       "      <td>1972.0</td>\n",
       "      <td>91.60</td>\n",
       "      <td>6037.0</td>\n",
       "    </tr>\n",
       "    <tr>\n",
       "      <th>4</th>\n",
       "      <td>0.0</td>\n",
       "      <td>0.0</td>\n",
       "      <td>171.0</td>\n",
       "      <td>6920.0</td>\n",
       "      <td>1973.0</td>\n",
       "      <td>255.17</td>\n",
       "      <td>6037.0</td>\n",
       "    </tr>\n",
       "    <tr>\n",
       "      <th>...</th>\n",
       "      <td>...</td>\n",
       "      <td>...</td>\n",
       "      <td>...</td>\n",
       "      <td>...</td>\n",
       "      <td>...</td>\n",
       "      <td>...</td>\n",
       "      <td>...</td>\n",
       "    </tr>\n",
       "    <tr>\n",
       "      <th>2140230</th>\n",
       "      <td>4.0</td>\n",
       "      <td>4.0</td>\n",
       "      <td>4375.0</td>\n",
       "      <td>422400.0</td>\n",
       "      <td>2015.0</td>\n",
       "      <td>13877.56</td>\n",
       "      <td>6037.0</td>\n",
       "    </tr>\n",
       "    <tr>\n",
       "      <th>2140231</th>\n",
       "      <td>4.0</td>\n",
       "      <td>3.0</td>\n",
       "      <td>2262.0</td>\n",
       "      <td>960756.0</td>\n",
       "      <td>2015.0</td>\n",
       "      <td>13494.52</td>\n",
       "      <td>6059.0</td>\n",
       "    </tr>\n",
       "    <tr>\n",
       "      <th>2140232</th>\n",
       "      <td>4.0</td>\n",
       "      <td>4.5</td>\n",
       "      <td>3127.0</td>\n",
       "      <td>536061.0</td>\n",
       "      <td>2014.0</td>\n",
       "      <td>6244.16</td>\n",
       "      <td>6059.0</td>\n",
       "    </tr>\n",
       "    <tr>\n",
       "      <th>2140233</th>\n",
       "      <td>3.0</td>\n",
       "      <td>2.5</td>\n",
       "      <td>1974.0</td>\n",
       "      <td>424353.0</td>\n",
       "      <td>2015.0</td>\n",
       "      <td>5302.70</td>\n",
       "      <td>6059.0</td>\n",
       "    </tr>\n",
       "    <tr>\n",
       "      <th>2140234</th>\n",
       "      <td>4.0</td>\n",
       "      <td>4.0</td>\n",
       "      <td>2110.0</td>\n",
       "      <td>554009.0</td>\n",
       "      <td>2014.0</td>\n",
       "      <td>6761.20</td>\n",
       "      <td>6037.0</td>\n",
       "    </tr>\n",
       "  </tbody>\n",
       "</table>\n",
       "<p>2140235 rows × 7 columns</p>\n",
       "</div>"
      ],
      "text/plain": [
       "         bedroom_count  bathroom_count  calc_finished_square_ft  \\\n",
       "0                  4.0             2.0                   3633.0   \n",
       "1                  3.0             4.0                   1620.0   \n",
       "2                  3.0             2.0                   2077.0   \n",
       "3                  0.0             0.0                   1200.0   \n",
       "4                  0.0             0.0                    171.0   \n",
       "...                ...             ...                      ...   \n",
       "2140230            4.0             4.0                   4375.0   \n",
       "2140231            4.0             3.0                   2262.0   \n",
       "2140232            4.0             4.5                   3127.0   \n",
       "2140233            3.0             2.5                   1974.0   \n",
       "2140234            4.0             4.0                   2110.0   \n",
       "\n",
       "         tax_value_dollar_count  year_built  tax_amount  fips_code  \n",
       "0                      296425.0      2005.0     6941.39     6037.0  \n",
       "1                      847770.0      2011.0    10244.94     6037.0  \n",
       "2                      646760.0      1926.0     7924.68     6037.0  \n",
       "3                        5328.0      1972.0       91.60     6037.0  \n",
       "4                        6920.0      1973.0      255.17     6037.0  \n",
       "...                         ...         ...         ...        ...  \n",
       "2140230                422400.0      2015.0    13877.56     6037.0  \n",
       "2140231                960756.0      2015.0    13494.52     6059.0  \n",
       "2140232                536061.0      2014.0     6244.16     6059.0  \n",
       "2140233                424353.0      2015.0     5302.70     6059.0  \n",
       "2140234                554009.0      2014.0     6761.20     6037.0  \n",
       "\n",
       "[2140235 rows x 7 columns]"
      ]
     },
     "execution_count": 4,
     "metadata": {},
     "output_type": "execute_result"
    }
   ],
   "source": [
    "zillow.select_dtypes('number')"
   ]
  },
  {
   "cell_type": "markdown",
   "id": "4a8a9c74",
   "metadata": {},
   "source": [
    "# visualize columns"
   ]
  },
  {
   "cell_type": "code",
   "execution_count": 5,
   "id": "4a85d589",
   "metadata": {
    "scrolled": true
   },
   "outputs": [
    {
     "name": "stdout",
     "output_type": "stream",
     "text": [
      "bedroom_count\n"
     ]
    },
    {
     "data": {
      "image/png": "[encoded data removed]",
      "text/plain": [
       "<Figure size 640x480 with 1 Axes>"
      ]
     },
     "metadata": {},
     "output_type": "display_data"
    },
    {
     "name": "stdout",
     "output_type": "stream",
     "text": [
      "bathroom_count\n"
     ]
    },
    {
     "data": {
      "image/png": "[encoded data removed]",
      "text/plain": [
       "<Figure size 640x480 with 1 Axes>"
      ]
     },
     "metadata": {},
     "output_type": "display_data"
    },
    {
     "name": "stdout",
     "output_type": "stream",
     "text": [
      "calc_finished_square_ft\n"
     ]
    },
    {
     "data": {
      "image/png": "[encoded data removed]",
      "text/plain": [
       "<Figure size 640x480 with 1 Axes>"
      ]
     },
     "metadata": {},
     "output_type": "display_data"
    },
    {
     "name": "stdout",
     "output_type": "stream",
     "text": [
      "tax_value_dollar_count\n"
     ]
    },
    {
     "data": {
      "image/png": "[encoded data removed]",
      "text/plain": [
       "<Figure size 640x480 with 1 Axes>"
      ]
     },
     "metadata": {},
     "output_type": "display_data"
    },
    {
     "name": "stdout",
     "output_type": "stream",
     "text": [
      "year_built\n"
     ]
    },
    {
     "data": {
      "image/png": "[encoded data removed]",
      "text/plain": [
       "<Figure size 640x480 with 1 Axes>"
      ]
     },
     "metadata": {},
     "output_type": "display_data"
    },
    {
     "name": "stdout",
     "output_type": "stream",
     "text": [
      "tax_amount\n"
     ]
    },
    {
     "data": {
      "image/png": "[encoded data removed]",
      "text/plain": [
       "<Figure size 640x480 with 1 Axes>"
      ]
     },
     "metadata": {},
     "output_type": "display_data"
    },
    {
     "name": "stdout",
     "output_type": "stream",
     "text": [
      "fips_code\n"
     ]
    },
    {
     "data": {
      "image/png": "[encoded data removed]",
      "text/plain": [
       "<Figure size 640x480 with 1 Axes>"
      ]
     },
     "metadata": {},
     "output_type": "display_data"
    }
   ],
   "source": [
    "for col in zillow:\n",
    "    print(col)\n",
    "    sns.boxenplot(x = col, data= zillow)\n",
    "    plt.show()"
   ]
  },
  {
   "cell_type": "markdown",
   "id": "8f2f0e31",
   "metadata": {},
   "source": [
    "# Identify and remove outliers before splitting and scaling"
   ]
  },
  {
   "cell_type": "code",
   "execution_count": 6,
   "id": "f27f471b",
   "metadata": {},
   "outputs": [],
   "source": [
    "a=[]\n",
    "b=[]\n",
    "fences=[a, b]\n",
    "features= []\n",
    "for col in zillow:\n",
    "        if zillow[col].dtype == 'float' or zillow[col].dtype == 'int':\n",
    "            '''\n",
    "            for each feature find the first and third quartile\n",
    "            '''\n",
    "            q1, q3 = zillow[col].quantile([.25, .75])\n",
    "            '''\n",
    "            calculate inter quartile range\n",
    "            '''\n",
    "            iqr = q3 - q1\n",
    "            '''\n",
    "            calculate the upper and lower fence\n",
    "            '''\n",
    "            upper_fence = q3 + (1.5 * iqr)\n",
    "            lower_fence = q1 - (1.5 * iqr)\n",
    "            '''\n",
    "            appending the upper and lower fences to lists\n",
    "            '''\n",
    "            a.append(upper_fence)\n",
    "            b.append(lower_fence)\n",
    "            '''\n",
    "            appending the feature names to a list\n",
    "            '''\n",
    "            features.append(col)\n",
    "            '''\n",
    "            assigning the fences and feature names to a dataframe\n",
    "            '''\n",
    "            var_fences= pd.DataFrame(fences, columns=features, index=['upper_fence', 'lower_fence'])\n",
    "        else:\n",
    "            print(col)\n",
    "            print('column is not a float or int')"
   ]
  },
  {
   "cell_type": "markdown",
   "id": "3b609cc7",
   "metadata": {},
   "source": [
    "## Quartile fences for determining outliers"
   ]
  },
  {
   "cell_type": "code",
   "execution_count": 7,
   "id": "61d24994",
   "metadata": {},
   "outputs": [
    {
     "data": {
      "text/html": [
       "<div>\n",
       "<style scoped>\n",
       "    .dataframe tbody tr th:only-of-type {\n",
       "        vertical-align: middle;\n",
       "    }\n",
       "\n",
       "    .dataframe tbody tr th {\n",
       "        vertical-align: top;\n",
       "    }\n",
       "\n",
       "    .dataframe thead th {\n",
       "        text-align: right;\n",
       "    }\n",
       "</style>\n",
       "<table border=\"1\" class=\"dataframe\">\n",
       "  <thead>\n",
       "    <tr style=\"text-align: right;\">\n",
       "      <th></th>\n",
       "      <th>bedroom_count</th>\n",
       "      <th>bathroom_count</th>\n",
       "      <th>calc_finished_square_ft</th>\n",
       "      <th>tax_value_dollar_count</th>\n",
       "      <th>year_built</th>\n",
       "      <th>tax_amount</th>\n",
       "      <th>fips_code</th>\n",
       "    </tr>\n",
       "  </thead>\n",
       "  <tbody>\n",
       "    <tr>\n",
       "      <th>upper_fence</th>\n",
       "      <td>5.5</td>\n",
       "      <td>4.5</td>\n",
       "      <td>3633.0</td>\n",
       "      <td>1052766.0</td>\n",
       "      <td>2016.5</td>\n",
       "      <td>12218.55</td>\n",
       "      <td>6092.0</td>\n",
       "    </tr>\n",
       "    <tr>\n",
       "      <th>lower_fence</th>\n",
       "      <td>1.5</td>\n",
       "      <td>0.5</td>\n",
       "      <td>-167.0</td>\n",
       "      <td>-328994.0</td>\n",
       "      <td>1908.5</td>\n",
       "      <td>-3265.77</td>\n",
       "      <td>6004.0</td>\n",
       "    </tr>\n",
       "  </tbody>\n",
       "</table>\n",
       "</div>"
      ],
      "text/plain": [
       "             bedroom_count  bathroom_count  calc_finished_square_ft  \\\n",
       "upper_fence            5.5             4.5                   3633.0   \n",
       "lower_fence            1.5             0.5                   -167.0   \n",
       "\n",
       "             tax_value_dollar_count  year_built  tax_amount  fips_code  \n",
       "upper_fence               1052766.0      2016.5    12218.55     6092.0  \n",
       "lower_fence               -328994.0      1908.5    -3265.77     6004.0  "
      ]
     },
     "execution_count": 7,
     "metadata": {},
     "output_type": "execute_result"
    }
   ],
   "source": [
    "var_fences"
   ]
  },
  {
   "cell_type": "code",
   "execution_count": 8,
   "id": "91d2f471",
   "metadata": {},
   "outputs": [
    {
     "data": {
      "text/plain": [
       "3"
      ]
     },
     "execution_count": 8,
     "metadata": {},
     "output_type": "execute_result"
    }
   ],
   "source": [
    "zillow['fips_code'].nunique()"
   ]
  },
  {
   "cell_type": "markdown",
   "id": "af0f1052",
   "metadata": {},
   "source": [
    "## Make a function to identify and remove outliers and deliver a dataframe of the fences like above"
   ]
  },
  {
   "cell_type": "code",
   "execution_count": 9,
   "id": "959c8b28",
   "metadata": {},
   "outputs": [],
   "source": [
    "def remove_outliers(df, k=1.5):\n",
    "    a=[]\n",
    "    b=[]\n",
    "    fences=[a, b]\n",
    "    features= []\n",
    "    col_list = df.columns.tolist()\n",
    "    i=0\n",
    "    for col in df:\n",
    "            new_df=np.where(df[col].nunique()>8, True, False)\n",
    "            if new_df==True:\n",
    "                if df[col].dtype == 'float' or df[col].dtype == 'int':\n",
    "                    '''\n",
    "                    for each feature find the first and third quartile\n",
    "                    '''\n",
    "                    q1, q3 = df[col].quantile([.25, .75])\n",
    "                    '''\n",
    "                    calculate inter quartile range\n",
    "                    '''\n",
    "                    iqr = q3 - q1\n",
    "                    '''\n",
    "                    calculate the upper and lower fence\n",
    "                    '''\n",
    "                    upper_fence = q3 + (k * iqr)\n",
    "                    lower_fence = q1 - (k * iqr)\n",
    "                    '''\n",
    "                    appending the upper and lower fences to lists\n",
    "                    '''\n",
    "                    a.append(upper_fence)\n",
    "                    b.append(lower_fence)\n",
    "                    '''\n",
    "                    appending the feature names to a list\n",
    "                    '''\n",
    "                    features.append(col)\n",
    "                    '''\n",
    "                    assigning the fences and feature names to a dataframe\n",
    "                    '''\n",
    "                    var_fences= pd.DataFrame(fences, columns=features, index=['upper_fence', 'lower_fence'])\n",
    "                else:\n",
    "                    print(col)\n",
    "                    print('column is not a float or int')\n",
    "            else:\n",
    "                print(f'{col} column ignored')\n",
    "                                    \n",
    "    for col in col_list[:6]:\n",
    "        df = df[(df[col]<= a[i]) & (df[col]>= b[i])]\n",
    "        i+=1\n",
    "    return df, var_fences\n"
   ]
  },
  {
   "cell_type": "markdown",
   "id": "f87e0e85",
   "metadata": {},
   "source": [
    "## checking original and removed outlier describes to see if it worked"
   ]
  },
  {
   "cell_type": "code",
   "execution_count": 10,
   "id": "c8547640",
   "metadata": {
    "scrolled": true
   },
   "outputs": [
    {
     "name": "stdout",
     "output_type": "stream",
     "text": [
      "fips_code column ignored\n"
     ]
    },
    {
     "data": {
      "text/html": [
       "<div>\n",
       "<style scoped>\n",
       "    .dataframe tbody tr th:only-of-type {\n",
       "        vertical-align: middle;\n",
       "    }\n",
       "\n",
       "    .dataframe tbody tr th {\n",
       "        vertical-align: top;\n",
       "    }\n",
       "\n",
       "    .dataframe thead th {\n",
       "        text-align: right;\n",
       "    }\n",
       "</style>\n",
       "<table border=\"1\" class=\"dataframe\">\n",
       "  <thead>\n",
       "    <tr style=\"text-align: right;\">\n",
       "      <th></th>\n",
       "      <th>count</th>\n",
       "      <th>mean</th>\n",
       "      <th>std</th>\n",
       "      <th>min</th>\n",
       "      <th>25%</th>\n",
       "      <th>50%</th>\n",
       "      <th>75%</th>\n",
       "      <th>max</th>\n",
       "    </tr>\n",
       "  </thead>\n",
       "  <tbody>\n",
       "    <tr>\n",
       "      <th>bedroom_count</th>\n",
       "      <td>1893641.0</td>\n",
       "      <td>3.231233</td>\n",
       "      <td>0.786047</td>\n",
       "      <td>2.00</td>\n",
       "      <td>3.00</td>\n",
       "      <td>3.0</td>\n",
       "      <td>4.00</td>\n",
       "      <td>5.00</td>\n",
       "    </tr>\n",
       "    <tr>\n",
       "      <th>bathroom_count</th>\n",
       "      <td>1893641.0</td>\n",
       "      <td>2.085427</td>\n",
       "      <td>0.725158</td>\n",
       "      <td>0.50</td>\n",
       "      <td>2.00</td>\n",
       "      <td>2.0</td>\n",
       "      <td>2.50</td>\n",
       "      <td>4.50</td>\n",
       "    </tr>\n",
       "    <tr>\n",
       "      <th>calc_finished_square_ft</th>\n",
       "      <td>1893641.0</td>\n",
       "      <td>1685.065362</td>\n",
       "      <td>595.205958</td>\n",
       "      <td>1.00</td>\n",
       "      <td>1240.00</td>\n",
       "      <td>1566.0</td>\n",
       "      <td>2029.00</td>\n",
       "      <td>3633.00</td>\n",
       "    </tr>\n",
       "    <tr>\n",
       "      <th>tax_value_dollar_count</th>\n",
       "      <td>1893641.0</td>\n",
       "      <td>343291.593779</td>\n",
       "      <td>216090.009031</td>\n",
       "      <td>22.00</td>\n",
       "      <td>178496.00</td>\n",
       "      <td>304726.0</td>\n",
       "      <td>469008.00</td>\n",
       "      <td>1052753.00</td>\n",
       "    </tr>\n",
       "    <tr>\n",
       "      <th>year_built</th>\n",
       "      <td>1893641.0</td>\n",
       "      <td>1960.283478</td>\n",
       "      <td>20.250137</td>\n",
       "      <td>1909.00</td>\n",
       "      <td>1950.00</td>\n",
       "      <td>1958.0</td>\n",
       "      <td>1973.00</td>\n",
       "      <td>2016.00</td>\n",
       "    </tr>\n",
       "    <tr>\n",
       "      <th>tax_amount</th>\n",
       "      <td>1893641.0</td>\n",
       "      <td>4253.629203</td>\n",
       "      <td>2455.919136</td>\n",
       "      <td>16.48</td>\n",
       "      <td>2422.48</td>\n",
       "      <td>3842.0</td>\n",
       "      <td>5681.44</td>\n",
       "      <td>12218.53</td>\n",
       "    </tr>\n",
       "    <tr>\n",
       "      <th>fips_code</th>\n",
       "      <td>1893641.0</td>\n",
       "      <td>6048.448244</td>\n",
       "      <td>20.571897</td>\n",
       "      <td>6037.00</td>\n",
       "      <td>6037.00</td>\n",
       "      <td>6037.0</td>\n",
       "      <td>6059.00</td>\n",
       "      <td>6111.00</td>\n",
       "    </tr>\n",
       "  </tbody>\n",
       "</table>\n",
       "</div>"
      ],
      "text/plain": [
       "                             count           mean            std      min  \\\n",
       "bedroom_count            1893641.0       3.231233       0.786047     2.00   \n",
       "bathroom_count           1893641.0       2.085427       0.725158     0.50   \n",
       "calc_finished_square_ft  1893641.0    1685.065362     595.205958     1.00   \n",
       "tax_value_dollar_count   1893641.0  343291.593779  216090.009031    22.00   \n",
       "year_built               1893641.0    1960.283478      20.250137  1909.00   \n",
       "tax_amount               1893641.0    4253.629203    2455.919136    16.48   \n",
       "fips_code                1893641.0    6048.448244      20.571897  6037.00   \n",
       "\n",
       "                               25%       50%        75%         max  \n",
       "bedroom_count                 3.00       3.0       4.00        5.00  \n",
       "bathroom_count                2.00       2.0       2.50        4.50  \n",
       "calc_finished_square_ft    1240.00    1566.0    2029.00     3633.00  \n",
       "tax_value_dollar_count   178496.00  304726.0  469008.00  1052753.00  \n",
       "year_built                 1950.00    1958.0    1973.00     2016.00  \n",
       "tax_amount                 2422.48    3842.0    5681.44    12218.53  \n",
       "fips_code                  6037.00    6037.0    6059.00     6111.00  "
      ]
     },
     "execution_count": 10,
     "metadata": {},
     "output_type": "execute_result"
    }
   ],
   "source": [
    "zillow_filtered, fences= remove_outliers(zillow)\n",
    "zillow_filtered.describe().T"
   ]
  },
  {
   "cell_type": "code",
   "execution_count": 11,
   "id": "5bbbf1c8",
   "metadata": {},
   "outputs": [
    {
     "data": {
      "text/html": [
       "<div>\n",
       "<style scoped>\n",
       "    .dataframe tbody tr th:only-of-type {\n",
       "        vertical-align: middle;\n",
       "    }\n",
       "\n",
       "    .dataframe tbody tr th {\n",
       "        vertical-align: top;\n",
       "    }\n",
       "\n",
       "    .dataframe thead th {\n",
       "        text-align: right;\n",
       "    }\n",
       "</style>\n",
       "<table border=\"1\" class=\"dataframe\">\n",
       "  <thead>\n",
       "    <tr style=\"text-align: right;\">\n",
       "      <th></th>\n",
       "      <th>count</th>\n",
       "      <th>mean</th>\n",
       "      <th>std</th>\n",
       "      <th>min</th>\n",
       "      <th>25%</th>\n",
       "      <th>50%</th>\n",
       "      <th>75%</th>\n",
       "      <th>max</th>\n",
       "    </tr>\n",
       "  </thead>\n",
       "  <tbody>\n",
       "    <tr>\n",
       "      <th>bedroom_count</th>\n",
       "      <td>2140235.0</td>\n",
       "      <td>3.301419</td>\n",
       "      <td>0.932600</td>\n",
       "      <td>0.00</td>\n",
       "      <td>3.00</td>\n",
       "      <td>3.00</td>\n",
       "      <td>4.00</td>\n",
       "      <td>25.00</td>\n",
       "    </tr>\n",
       "    <tr>\n",
       "      <th>bathroom_count</th>\n",
       "      <td>2140235.0</td>\n",
       "      <td>2.240352</td>\n",
       "      <td>0.990549</td>\n",
       "      <td>0.00</td>\n",
       "      <td>2.00</td>\n",
       "      <td>2.00</td>\n",
       "      <td>3.00</td>\n",
       "      <td>32.00</td>\n",
       "    </tr>\n",
       "    <tr>\n",
       "      <th>calc_finished_square_ft</th>\n",
       "      <td>2140235.0</td>\n",
       "      <td>1863.193970</td>\n",
       "      <td>1221.754161</td>\n",
       "      <td>1.00</td>\n",
       "      <td>1258.00</td>\n",
       "      <td>1623.00</td>\n",
       "      <td>2208.00</td>\n",
       "      <td>952576.00</td>\n",
       "    </tr>\n",
       "    <tr>\n",
       "      <th>tax_value_dollar_count</th>\n",
       "      <td>2140235.0</td>\n",
       "      <td>460641.625164</td>\n",
       "      <td>677157.635675</td>\n",
       "      <td>22.00</td>\n",
       "      <td>189166.00</td>\n",
       "      <td>328296.00</td>\n",
       "      <td>534606.00</td>\n",
       "      <td>90188462.00</td>\n",
       "    </tr>\n",
       "    <tr>\n",
       "      <th>year_built</th>\n",
       "      <td>2140235.0</td>\n",
       "      <td>1960.967545</td>\n",
       "      <td>22.150563</td>\n",
       "      <td>1801.00</td>\n",
       "      <td>1949.00</td>\n",
       "      <td>1958.00</td>\n",
       "      <td>1976.00</td>\n",
       "      <td>2016.00</td>\n",
       "    </tr>\n",
       "    <tr>\n",
       "      <th>tax_amount</th>\n",
       "      <td>2140235.0</td>\n",
       "      <td>5616.711322</td>\n",
       "      <td>7814.562798</td>\n",
       "      <td>6.34</td>\n",
       "      <td>2540.85</td>\n",
       "      <td>4111.47</td>\n",
       "      <td>6411.93</td>\n",
       "      <td>1078101.87</td>\n",
       "    </tr>\n",
       "    <tr>\n",
       "      <th>fips_code</th>\n",
       "      <td>2140235.0</td>\n",
       "      <td>6048.309556</td>\n",
       "      <td>20.344910</td>\n",
       "      <td>6037.00</td>\n",
       "      <td>6037.00</td>\n",
       "      <td>6037.00</td>\n",
       "      <td>6059.00</td>\n",
       "      <td>6111.00</td>\n",
       "    </tr>\n",
       "  </tbody>\n",
       "</table>\n",
       "</div>"
      ],
      "text/plain": [
       "                             count           mean            std      min  \\\n",
       "bedroom_count            2140235.0       3.301419       0.932600     0.00   \n",
       "bathroom_count           2140235.0       2.240352       0.990549     0.00   \n",
       "calc_finished_square_ft  2140235.0    1863.193970    1221.754161     1.00   \n",
       "tax_value_dollar_count   2140235.0  460641.625164  677157.635675    22.00   \n",
       "year_built               2140235.0    1960.967545      22.150563  1801.00   \n",
       "tax_amount               2140235.0    5616.711322    7814.562798     6.34   \n",
       "fips_code                2140235.0    6048.309556      20.344910  6037.00   \n",
       "\n",
       "                               25%        50%        75%          max  \n",
       "bedroom_count                 3.00       3.00       4.00        25.00  \n",
       "bathroom_count                2.00       2.00       3.00        32.00  \n",
       "calc_finished_square_ft    1258.00    1623.00    2208.00    952576.00  \n",
       "tax_value_dollar_count   189166.00  328296.00  534606.00  90188462.00  \n",
       "year_built                 1949.00    1958.00    1976.00      2016.00  \n",
       "tax_amount                 2540.85    4111.47    6411.93   1078101.87  \n",
       "fips_code                  6037.00    6037.00    6059.00      6111.00  "
      ]
     },
     "execution_count": 11,
     "metadata": {},
     "output_type": "execute_result"
    }
   ],
   "source": [
    "zillow.describe().T"
   ]
  },
  {
   "cell_type": "code",
   "execution_count": 12,
   "id": "28c1417d",
   "metadata": {},
   "outputs": [
    {
     "data": {
      "text/html": [
       "<div>\n",
       "<style scoped>\n",
       "    .dataframe tbody tr th:only-of-type {\n",
       "        vertical-align: middle;\n",
       "    }\n",
       "\n",
       "    .dataframe tbody tr th {\n",
       "        vertical-align: top;\n",
       "    }\n",
       "\n",
       "    .dataframe thead th {\n",
       "        text-align: right;\n",
       "    }\n",
       "</style>\n",
       "<table border=\"1\" class=\"dataframe\">\n",
       "  <thead>\n",
       "    <tr style=\"text-align: right;\">\n",
       "      <th></th>\n",
       "      <th>bedroom_count</th>\n",
       "      <th>bathroom_count</th>\n",
       "      <th>calc_finished_square_ft</th>\n",
       "      <th>tax_value_dollar_count</th>\n",
       "      <th>year_built</th>\n",
       "      <th>tax_amount</th>\n",
       "    </tr>\n",
       "  </thead>\n",
       "  <tbody>\n",
       "    <tr>\n",
       "      <th>upper_fence</th>\n",
       "      <td>5.5</td>\n",
       "      <td>4.5</td>\n",
       "      <td>3633.0</td>\n",
       "      <td>1052766.0</td>\n",
       "      <td>2016.5</td>\n",
       "      <td>12218.55</td>\n",
       "    </tr>\n",
       "    <tr>\n",
       "      <th>lower_fence</th>\n",
       "      <td>1.5</td>\n",
       "      <td>0.5</td>\n",
       "      <td>-167.0</td>\n",
       "      <td>-328994.0</td>\n",
       "      <td>1908.5</td>\n",
       "      <td>-3265.77</td>\n",
       "    </tr>\n",
       "  </tbody>\n",
       "</table>\n",
       "</div>"
      ],
      "text/plain": [
       "             bedroom_count  bathroom_count  calc_finished_square_ft  \\\n",
       "upper_fence            5.5             4.5                   3633.0   \n",
       "lower_fence            1.5             0.5                   -167.0   \n",
       "\n",
       "             tax_value_dollar_count  year_built  tax_amount  \n",
       "upper_fence               1052766.0      2016.5    12218.55  \n",
       "lower_fence               -328994.0      1908.5    -3265.77  "
      ]
     },
     "execution_count": 12,
     "metadata": {},
     "output_type": "execute_result"
    }
   ],
   "source": [
    "fences"
   ]
  },
  {
   "cell_type": "markdown",
   "id": "3af05e7d",
   "metadata": {},
   "source": [
    "# Scaling exercises begin here"
   ]
  },
  {
   "cell_type": "code",
   "execution_count": 13,
   "id": "84b310fe",
   "metadata": {},
   "outputs": [],
   "source": [
    "z_train, z_val, z_test = tts_con(zillow_filtered)\n",
    "scale_feats= z_train[['bedroom_count', 'bathroom_count', 'calc_finished_square_ft', 'tax_amount']]"
   ]
  },
  {
   "cell_type": "code",
   "execution_count": 14,
   "id": "55f675e7",
   "metadata": {},
   "outputs": [],
   "source": [
    "#Apply the scalers we talked about in this lesson to your data \n",
    "#and visualize the results for the unscaled and scaled distribution.\n",
    "mm_scaler= MinMaxScaler()"
   ]
  },
  {
   "cell_type": "code",
   "execution_count": 15,
   "id": "c88d49da",
   "metadata": {},
   "outputs": [
    {
     "data": {
      "text/plain": [
       "Text(0.5, 1.0, 'Scaled')"
      ]
     },
     "execution_count": 15,
     "metadata": {},
     "output_type": "execute_result"
    },
    {
     "data": {
      "image/png": "[encoded data removed]",
      "text/plain": [
       "<Figure size 1300x600 with 2 Axes>"
      ]
     },
     "metadata": {},
     "output_type": "display_data"
    }
   ],
   "source": [
    "mm_scaler.fit(scale_feats)\n",
    "\n",
    "scale_feats_scaled = mm_scaler.transform(scale_feats)\n",
    "\n",
    "plt.figure(figsize=(13, 6))\n",
    "plt.subplot(121)\n",
    "plt.hist(scale_feats, bins=10, ec='black')\n",
    "plt.title('Original')\n",
    "plt.subplot(122)\n",
    "plt.hist(scale_feats_scaled, bins=10, ec='black')\n",
    "plt.title('Scaled')"
   ]
  },
  {
   "cell_type": "code",
   "execution_count": 16,
   "id": "ddae028e",
   "metadata": {},
   "outputs": [
    {
     "data": {
      "text/plain": [
       "Text(0.5, 1.0, 'Scaled')"
      ]
     },
     "execution_count": 16,
     "metadata": {},
     "output_type": "execute_result"
    },
    {
     "data": {
      "image/png": "[encoded data removed]",
      "text/plain": [
       "<Figure size 1300x600 with 2 Axes>"
      ]
     },
     "metadata": {},
     "output_type": "display_data"
    }
   ],
   "source": [
    "ss_scaler = sklearn.preprocessing.StandardScaler()\n",
    "\n",
    "ss_scaler.fit(scale_feats)\n",
    "\n",
    "scale_feats_scaled = ss_scaler.transform(scale_feats)\n",
    "\n",
    "\n",
    "plt.figure(figsize=(13, 6))\n",
    "plt.subplot(121)\n",
    "plt.hist(scale_feats, bins=10, ec='black')\n",
    "plt.title('Original')\n",
    "plt.subplot(122)\n",
    "plt.hist(scale_feats_scaled, bins=10, ec='black')\n",
    "plt.title('Scaled')"
   ]
  },
  {
   "cell_type": "code",
   "execution_count": 17,
   "id": "4f7fce7e",
   "metadata": {},
   "outputs": [
    {
     "data": {
      "text/plain": [
       "Text(0.5, 1.0, 'Scaled')"
      ]
     },
     "execution_count": 17,
     "metadata": {},
     "output_type": "execute_result"
    },
    {
     "data": {
      "image/png": "[encoded data removed]",
      "text/plain": [
       "<Figure size 1300x600 with 2 Axes>"
      ]
     },
     "metadata": {},
     "output_type": "display_data"
    }
   ],
   "source": [
    "rs_scaler = sklearn.preprocessing.RobustScaler()\n",
    "\n",
    "rs_scaler.fit(scale_feats)\n",
    "\n",
    "scale_feats_scaled = rs_scaler.transform(scale_feats)\n",
    "\n",
    "plt.figure(figsize=(13, 6))\n",
    "plt.subplot(121)\n",
    "plt.hist(scale_feats, bins=10, ec='black')\n",
    "plt.title('Original')\n",
    "plt.subplot(122)\n",
    "plt.hist(scale_feats_scaled, bins=10, ec='black')\n",
    "plt.title('Scaled')"
   ]
  },
  {
   "cell_type": "code",
   "execution_count": 18,
   "id": "5a2ce8f6",
   "metadata": {},
   "outputs": [
    {
     "data": {
      "text/plain": [
       "Text(0.5, 1.0, 'Scaled')"
      ]
     },
     "execution_count": 18,
     "metadata": {},
     "output_type": "execute_result"
    },
    {
     "data": {
      "image/png": "[encoded data removed]",
      "text/plain": [
       "<Figure size 1300x600 with 2 Axes>"
      ]
     },
     "metadata": {},
     "output_type": "display_data"
    }
   ],
   "source": [
    "#Apply the .inverse_transform method to your scaled data. \n",
    "#Is the resulting dataset the exact same as the original data?\n",
    "\n",
    "scale_feats_scaled_i = rs_scaler.transform(scale_feats)\n",
    "\n",
    "plt.figure(figsize=(13, 6))\n",
    "plt.subplot(121)\n",
    "plt.hist(scale_feats, bins=10, ec='black')\n",
    "plt.title('Original')\n",
    "plt.subplot(122)\n",
    "plt.hist(scale_feats_scaled_i, bins=10, ec='black')\n",
    "plt.title('Scaled')\n",
    "\n",
    "#looks the same as before it was inversed"
   ]
  },
  {
   "cell_type": "code",
   "execution_count": 19,
   "id": "aa768998",
   "metadata": {},
   "outputs": [
    {
     "data": {
      "text/plain": [
       "Text(0.5, 1.0, 'Scaled')"
      ]
     },
     "execution_count": 19,
     "metadata": {},
     "output_type": "execute_result"
    },
    {
     "data": {
      "image/png": "[encoded data removed]",
      "text/plain": [
       "<Figure size 1300x600 with 2 Axes>"
      ]
     },
     "metadata": {},
     "output_type": "display_data"
    }
   ],
   "source": [
    "#Read the documentation for sklearn's QuantileTransformer. \n",
    "#Use normal for the output_distribution and apply this scaler to your data. \n",
    "#Visualize the result of your data scaling.\n",
    "\n",
    "qt_scaler=QuantileTransformer(output_distribution='normal')\n",
    "\n",
    "qt_scaler.fit(scale_feats)\n",
    "\n",
    "scale_feats_scaled = qt_scaler.transform(scale_feats)\n",
    "\n",
    "plt.figure(figsize=(13, 6))\n",
    "plt.subplot(121)\n",
    "plt.hist(scale_feats, bins=10, ec='black')\n",
    "plt.title('Original')\n",
    "plt.subplot(122)\n",
    "plt.hist(scale_feats_scaled, bins=10, ec='black')\n",
    "plt.title('Scaled')"
   ]
  },
  {
   "cell_type": "code",
   "execution_count": 20,
   "id": "55b9acf6",
   "metadata": {},
   "outputs": [
    {
     "data": {
      "text/plain": [
       "Text(0.5, 1.0, 'Scaled')"
      ]
     },
     "execution_count": 20,
     "metadata": {},
     "output_type": "execute_result"
    },
    {
     "data": {
      "image/png": "[encoded data removed]",
      "text/plain": [
       "<Figure size 1300x600 with 2 Axes>"
      ]
     },
     "metadata": {},
     "output_type": "display_data"
    }
   ],
   "source": [
    "#Use the QuantileTransformer, but omit the output_distribution argument. \n",
    "#Visualize your results. What do you notice?\n",
    "\n",
    "qt_scaler=QuantileTransformer()\n",
    "\n",
    "qt_scaler.fit(scale_feats)\n",
    "\n",
    "scale_feats_scaled = qt_scaler.transform(scale_feats)\n",
    "\n",
    "plt.figure(figsize=(13, 6))\n",
    "plt.subplot(121)\n",
    "plt.hist(scale_feats, bins=10, ec='black')\n",
    "plt.title('Original')\n",
    "plt.subplot(122)\n",
    "plt.hist(scale_feats_scaled, bins=10, ec='black')\n",
    "plt.title('Scaled')"
   ]
  },
  {
   "cell_type": "code",
   "execution_count": 21,
   "id": "cf648075",
   "metadata": {},
   "outputs": [],
   "source": [
    "#Based on the work you've done, choose a scaling method for your dataset. \n",
    "#Write a function within your prepare.py that accepts as input the train, validate, and \n",
    "#test data splits, and returns the scaled versions of each. \n",
    "#Be sure to only learn the parameters for scaling from your training data!\n",
    "\n",
    "def scale_data(t, v, te):\n",
    "    ss_scaler = sklearn.preprocessing.StandardScaler()\n",
    "    ss_scaler.fit(t)\n",
    "    \n",
    "    st=train_scaled = ss_scaler.transform(t)\n",
    "    sv=validate_scaled = ss_scaler.transform(v)\n",
    "    ste=test_scaled = ss_scaler.transform(te)\n",
    "\n",
    "    return st, sv, ste"
   ]
  },
  {
   "cell_type": "code",
   "execution_count": 22,
   "id": "e82551dc",
   "metadata": {},
   "outputs": [],
   "source": [
    "sc_train, sc_val, sc_test= scale_data(z_train, z_val, z_test)"
   ]
  },
  {
   "cell_type": "code",
   "execution_count": 23,
   "id": "43b8069e",
   "metadata": {},
   "outputs": [
    {
     "data": {
      "text/plain": [
       "array([[ 0.98016271, -0.11684437, -0.85804964, ..., -0.30970549,\n",
       "        -0.5392819 , -0.55604573],\n",
       "       [-0.29265313,  0.57284729,  0.86983448, ...,  0.28308776,\n",
       "         0.80038339,  0.51526777],\n",
       "       [ 0.98016271, -0.11684437,  0.0680828 , ..., -0.0627083 ,\n",
       "         0.47956857, -0.55604573],\n",
       "       ...,\n",
       "       [-0.29265313, -0.11684437, -0.89334689, ..., -0.35910492,\n",
       "        -1.4197424 , -0.55604573],\n",
       "       [-0.29265313,  0.57284729, -0.55550184, ..., -0.26030605,\n",
       "        -0.31336436,  0.51526777],\n",
       "       [ 0.98016271,  1.26253894,  1.58586428, ...,  2.25906526,\n",
       "        -0.12036187, -0.55604573]])"
      ]
     },
     "execution_count": 23,
     "metadata": {},
     "output_type": "execute_result"
    }
   ],
   "source": [
    "sc_train"
   ]
  },
  {
   "cell_type": "code",
   "execution_count": 24,
   "id": "d3517492",
   "metadata": {},
   "outputs": [
    {
     "data": {
      "text/plain": [
       "array([[ 0.98016271, -0.11684437,  0.49164973, ..., -1.19889536,\n",
       "        -0.65282357, -0.55604573],\n",
       "       [ 2.25297855,  2.64192226,  1.53543965, ...,  0.13488945,\n",
       "         0.63747525, -0.55604573],\n",
       "       [ 0.98016271,  1.26253894,  0.80596328, ...,  0.48068551,\n",
       "        -1.07078979, -0.55604573],\n",
       "       ...,\n",
       "       [-0.29265313, -0.11684437,  1.0143851 , ...,  1.17227764,\n",
       "        -0.30254213, -0.55604573],\n",
       "       [-0.29265313, -0.11684437, -0.88494278, ..., -0.35910492,\n",
       "        -0.3019144 , -0.55604573],\n",
       "       [ 0.98016271,  1.26253894,  1.41610135, ...,  0.13488945,\n",
       "         0.39357773, -0.55604573]])"
      ]
     },
     "execution_count": 24,
     "metadata": {},
     "output_type": "execute_result"
    }
   ],
   "source": [
    "sc_val"
   ]
  },
  {
   "cell_type": "code",
   "execution_count": 25,
   "id": "7b8535ab",
   "metadata": {},
   "outputs": [
    {
     "data": {
      "text/plain": [
       "array([[-1.56546898, -0.11684437,  0.09833758, ..., -2.23628355,\n",
       "         0.0798106 , -0.55604573],\n",
       "       [ 0.98016271, -0.11684437,  0.04791295, ..., -0.26030605,\n",
       "         0.59832774, -0.55604573],\n",
       "       [-0.29265313, -1.49622768, -0.56558677, ..., -0.50730324,\n",
       "        -0.42178228, -0.55604573],\n",
       "       ...,\n",
       "       [-0.29265313,  1.26253894, -0.28152799, ..., -0.16150717,\n",
       "         0.74736875, -0.55604573],\n",
       "       [-0.29265313, -1.49622768, -1.19085223, ..., -1.89048748,\n",
       "        -0.1852993 , -0.55604573],\n",
       "       [-1.56546898, -1.49622768, -1.0294934 , ..., -1.69288973,\n",
       "         0.08506071, -0.55604573]])"
      ]
     },
     "execution_count": 25,
     "metadata": {},
     "output_type": "execute_result"
    }
   ],
   "source": [
    "sc_test"
   ]
  },
  {
   "cell_type": "code",
   "execution_count": 26,
   "id": "e9dab439",
   "metadata": {},
   "outputs": [
    {
     "data": {
      "text/plain": [
       "(1060438, 7)"
      ]
     },
     "execution_count": 26,
     "metadata": {},
     "output_type": "execute_result"
    }
   ],
   "source": [
    "sc_train.shape"
   ]
  },
  {
   "cell_type": "code",
   "execution_count": null,
   "id": "c1318129",
   "metadata": {},
   "outputs": [],
   "source": []
  }
 ],
 "metadata": {
  "kernelspec": {
   "display_name": "Python 3 (ipykernel)",
   "language": "python",
   "name": "python3"
  },
  "language_info": {
   "codemirror_mode": {
    "name": "ipython",
    "version": 3
   },
   "file_extension": ".py",
   "mimetype": "text/x-python",
   "name": "python",
   "nbconvert_exporter": "python",
   "pygments_lexer": "ipython3",
   "version": "3.9.13"
  }
 },
 "nbformat": 4,
 "nbformat_minor": 5
}
