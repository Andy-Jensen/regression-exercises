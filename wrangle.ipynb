{
 "cells": [
  {
   "cell_type": "code",
   "execution_count": 1,
   "id": "b77fcc5b",
   "metadata": {},
   "outputs": [],
   "source": [
    "#import libraries and the 'get_connection' function from env\n",
    "import pandas as pd\n",
    "import numpy as np\n",
    "import env\n",
    "import os\n",
    "from env import get_connection\n",
    "import seaborn as sns\n",
    "import matplotlib.pyplot as plt"
   ]
  },
  {
   "cell_type": "markdown",
   "id": "5bd6d03b",
   "metadata": {},
   "source": [
    "# Acquiring the data from the SQL server"
   ]
  },
  {
   "cell_type": "code",
   "execution_count": 2,
   "id": "a4eeee74",
   "metadata": {},
   "outputs": [],
   "source": [
    "def get_zillow():\n",
    "    '''\n",
    "    looking for an already existing zillow csv on the local machine\n",
    "    '''\n",
    "    if os.path.isfile('zillow.csv'):\n",
    "        return pd.read_csv('zillow.csv')\n",
    "    else:\n",
    "        '''\n",
    "        if there is no existing csv, then connect to the SQL server and get the information from \n",
    "        telco_churn db\n",
    "        '''\n",
    "        url = get_connection('zillow')\n",
    "        '''\n",
    "        use the query to rename columns too\n",
    "        '''\n",
    "        query = '''\n",
    "                SELECT bedroomcnt as bedroom_count, bathroomcnt as bathroom_count, \n",
    "                calculatedfinishedsquarefeet as calc_finished_square_ft, \n",
    "                taxvaluedollarcnt as tax_value_dollar_count, yearbuilt as year_built, \n",
    "                taxamount as tax_amount, fips as fips_code \n",
    "                FROM properties_2017 \n",
    "                JOIN propertylandusetype USING(propertylandusetypeid)\n",
    "                WHERE propertylandusedesc = 'Single Family Residential'\n",
    "                '''\n",
    "        \n",
    "        df = pd.read_sql(query, url)\n",
    "        '''\n",
    "        saving the newly queried SQL table to a csv so it\n",
    "        can be used instead of connecting to the SQL server\n",
    "        every time I want this info\n",
    "        '''\n",
    "        df.to_csv('zillow.csv', index=False)\n",
    "        return df"
   ]
  },
  {
   "cell_type": "code",
   "execution_count": 3,
   "id": "9e546b93",
   "metadata": {},
   "outputs": [],
   "source": [
    "df= get_zillow()"
   ]
  },
  {
   "cell_type": "code",
   "execution_count": 4,
   "id": "e81318f9",
   "metadata": {},
   "outputs": [
    {
     "data": {
      "text/html": [
       "<div>\n",
       "<style scoped>\n",
       "    .dataframe tbody tr th:only-of-type {\n",
       "        vertical-align: middle;\n",
       "    }\n",
       "\n",
       "    .dataframe tbody tr th {\n",
       "        vertical-align: top;\n",
       "    }\n",
       "\n",
       "    .dataframe thead th {\n",
       "        text-align: right;\n",
       "    }\n",
       "</style>\n",
       "<table border=\"1\" class=\"dataframe\">\n",
       "  <thead>\n",
       "    <tr style=\"text-align: right;\">\n",
       "      <th></th>\n",
       "      <th>bedroom_count</th>\n",
       "      <th>bathroom_count</th>\n",
       "      <th>calc_finished_square_ft</th>\n",
       "      <th>tax_value_dollar_count</th>\n",
       "      <th>year_built</th>\n",
       "      <th>tax_amount</th>\n",
       "      <th>fips_code</th>\n",
       "    </tr>\n",
       "  </thead>\n",
       "  <tbody>\n",
       "    <tr>\n",
       "      <th>0</th>\n",
       "      <td>0.0</td>\n",
       "      <td>0.0</td>\n",
       "      <td>NaN</td>\n",
       "      <td>27516.0</td>\n",
       "      <td>NaN</td>\n",
       "      <td>NaN</td>\n",
       "      <td>6037.0</td>\n",
       "    </tr>\n",
       "    <tr>\n",
       "      <th>1</th>\n",
       "      <td>0.0</td>\n",
       "      <td>0.0</td>\n",
       "      <td>NaN</td>\n",
       "      <td>10.0</td>\n",
       "      <td>NaN</td>\n",
       "      <td>NaN</td>\n",
       "      <td>6037.0</td>\n",
       "    </tr>\n",
       "    <tr>\n",
       "      <th>2</th>\n",
       "      <td>0.0</td>\n",
       "      <td>0.0</td>\n",
       "      <td>NaN</td>\n",
       "      <td>10.0</td>\n",
       "      <td>NaN</td>\n",
       "      <td>NaN</td>\n",
       "      <td>6037.0</td>\n",
       "    </tr>\n",
       "    <tr>\n",
       "      <th>3</th>\n",
       "      <td>0.0</td>\n",
       "      <td>0.0</td>\n",
       "      <td>NaN</td>\n",
       "      <td>2108.0</td>\n",
       "      <td>NaN</td>\n",
       "      <td>174.21</td>\n",
       "      <td>6037.0</td>\n",
       "    </tr>\n",
       "    <tr>\n",
       "      <th>4</th>\n",
       "      <td>4.0</td>\n",
       "      <td>2.0</td>\n",
       "      <td>3633.0</td>\n",
       "      <td>296425.0</td>\n",
       "      <td>2005.0</td>\n",
       "      <td>6941.39</td>\n",
       "      <td>6037.0</td>\n",
       "    </tr>\n",
       "  </tbody>\n",
       "</table>\n",
       "</div>"
      ],
      "text/plain": [
       "   bedroom_count  bathroom_count  calc_finished_square_ft  \\\n",
       "0            0.0             0.0                      NaN   \n",
       "1            0.0             0.0                      NaN   \n",
       "2            0.0             0.0                      NaN   \n",
       "3            0.0             0.0                      NaN   \n",
       "4            4.0             2.0                   3633.0   \n",
       "\n",
       "   tax_value_dollar_count  year_built  tax_amount  fips_code  \n",
       "0                 27516.0         NaN         NaN     6037.0  \n",
       "1                    10.0         NaN         NaN     6037.0  \n",
       "2                    10.0         NaN         NaN     6037.0  \n",
       "3                  2108.0         NaN      174.21     6037.0  \n",
       "4                296425.0      2005.0     6941.39     6037.0  "
      ]
     },
     "execution_count": 4,
     "metadata": {},
     "output_type": "execute_result"
    }
   ],
   "source": [
    "#Taking a look at the data\n",
    "df.head()"
   ]
  },
  {
   "cell_type": "code",
   "execution_count": 5,
   "id": "63e244ac",
   "metadata": {},
   "outputs": [
    {
     "data": {
      "text/plain": [
       "(2152863, 7)"
      ]
     },
     "execution_count": 5,
     "metadata": {},
     "output_type": "execute_result"
    }
   ],
   "source": [
    "df.shape"
   ]
  },
  {
   "cell_type": "markdown",
   "id": "5b8bdd58",
   "metadata": {},
   "source": [
    "# Identify and handle null values"
   ]
  },
  {
   "cell_type": "code",
   "execution_count": 6,
   "id": "ba9ee1fc",
   "metadata": {},
   "outputs": [
    {
     "name": "stdout",
     "output_type": "stream",
     "text": [
      "number of bedroom count nulls is: 11\n",
      "number of bathroom count nulls is: 11\n",
      "number of calculated finished square feet nulls is: 8484\n",
      "number of tax value dollar count nulls is: 493\n",
      "number of year built nulls is: 9337\n",
      "number of tax amount nulls is: 4442\n",
      "number of fips code nulls is: 0\n"
     ]
    }
   ],
   "source": [
    "#check for null values in each column\n",
    "\n",
    "bec=df['bedroom_count'].isnull().sum()\n",
    "bac=df['bathroom_count'].isnull().sum()\n",
    "cfsf=df['calc_finished_square_ft'].isnull().sum()\n",
    "tcdc=df['tax_value_dollar_count'].isnull().sum()\n",
    "yb=df['year_built'].isnull().sum()\n",
    "ta=df['tax_amount'].isnull().sum()\n",
    "fc=df['fips_code'].isnull().sum()\n",
    "\n",
    "print(f'number of bedroom count nulls is: {bec}')\n",
    "print(f'number of bathroom count nulls is: {bac}')\n",
    "print(f'number of calculated finished square feet nulls is: {cfsf}')\n",
    "print(f'number of tax value dollar count nulls is: {tcdc}')\n",
    "print(f'number of year built nulls is: {yb}')\n",
    "print(f'number of tax amount nulls is: {ta}')\n",
    "print(f'number of fips code nulls is: {fc}')"
   ]
  },
  {
   "cell_type": "markdown",
   "id": "07271c4c",
   "metadata": {},
   "source": [
    "### Null values are only a small part of the dataset so I am going to drop those rows"
   ]
  },
  {
   "cell_type": "code",
   "execution_count": 7,
   "id": "168606a5",
   "metadata": {},
   "outputs": [
    {
     "name": "stdout",
     "output_type": "stream",
     "text": [
      "number of bedroom count nulls is: 0\n",
      "number of bathroom count nulls is: 0\n",
      "number of calculated finished square feet nulls is: 0\n",
      "number of tax value dollar count nulls is: 0\n",
      "number of year built nulls is: 0\n",
      "number of tax amount nulls is: 0\n",
      "number of fips code nulls is: 0\n"
     ]
    }
   ],
   "source": [
    "#Dropping nulls\n",
    "df=df.dropna()\n",
    "\n",
    "#Checking null values again\n",
    "bec=df['bedroom_count'].isnull().sum()\n",
    "bac=df['bathroom_count'].isnull().sum()\n",
    "cfsf=df['calc_finished_square_ft'].isnull().sum()\n",
    "tcdc=df['tax_value_dollar_count'].isnull().sum()\n",
    "yb=df['year_built'].isnull().sum()\n",
    "ta=df['tax_amount'].isnull().sum()\n",
    "fc=df['fips_code'].isnull().sum()\n",
    "\n",
    "print(f'number of bedroom count nulls is: {bec}')\n",
    "print(f'number of bathroom count nulls is: {bac}')\n",
    "print(f'number of calculated finished square feet nulls is: {cfsf}')\n",
    "print(f'number of tax value dollar count nulls is: {tcdc}')\n",
    "print(f'number of year built nulls is: {yb}')\n",
    "print(f'number of tax amount nulls is: {ta}')\n",
    "print(f'number of fips code nulls is: {fc}')"
   ]
  },
  {
   "cell_type": "markdown",
   "id": "323aa37b",
   "metadata": {},
   "source": [
    "### Check data types and make sure they are the correct type for the kind of feature"
   ]
  },
  {
   "cell_type": "code",
   "execution_count": 8,
   "id": "d59c29a2",
   "metadata": {},
   "outputs": [
    {
     "data": {
      "text/plain": [
       "bedroom_count              float64\n",
       "bathroom_count             float64\n",
       "calc_finished_square_ft    float64\n",
       "tax_value_dollar_count     float64\n",
       "year_built                 float64\n",
       "tax_amount                 float64\n",
       "fips_code                  float64\n",
       "dtype: object"
      ]
     },
     "execution_count": 8,
     "metadata": {},
     "output_type": "execute_result"
    }
   ],
   "source": [
    "df.dtypes"
   ]
  },
  {
   "cell_type": "markdown",
   "id": "3b5af7c6",
   "metadata": {},
   "source": [
    "**All features are floats so there is no datatype change necessary**"
   ]
  },
  {
   "cell_type": "markdown",
   "id": "a2c5b4a9",
   "metadata": {},
   "source": [
    "# Create wrangle_zillow function"
   ]
  },
  {
   "cell_type": "code",
   "execution_count": 15,
   "id": "24aa1614",
   "metadata": {},
   "outputs": [],
   "source": [
    "def wrangle_zillow():\n",
    "    '''\n",
    "    looking for an already existing zillow csv on the local machine\n",
    "    '''\n",
    "    if os.path.isfile('zillow.csv'):\n",
    "        return pd.read_csv('zillow.csv')\n",
    "    else:\n",
    "        '''\n",
    "        if there is no existing csv, then connect to the SQL server and get the information from \n",
    "        telco_churn db\n",
    "        '''\n",
    "        url = get_connection('zillow')\n",
    "        '''\n",
    "        use the query to rename columns too\n",
    "        '''\n",
    "        query = '''\n",
    "                SELECT bedroomcnt as bedroom_count, bathroomcnt as bathroom_count, \n",
    "                calculatedfinishedsquarefeet as calc_finished_square_ft, \n",
    "                taxvaluedollarcnt as tax_value_dollar_count, yearbuilt as year_built, \n",
    "                taxamount as tax_amount, fips as fips_code \n",
    "                FROM properties_2017 \n",
    "                JOIN propertylandusetype USING(propertylandusetypeid)\n",
    "                WHERE propertylandusedesc = 'Single Family Residential'\n",
    "                '''\n",
    "        \n",
    "        df = pd.read_sql(query, url)\n",
    "        '''\n",
    "        drop null values\n",
    "        '''\n",
    "        df=df.dropna()\n",
    "        '''\n",
    "        saving the newly queried SQL table to a csv so it\n",
    "        can be used instead of connecting to the SQL server\n",
    "        every time I want this info\n",
    "        '''\n",
    "        df.to_csv('zillow.csv', index=False)\n",
    "        return df"
   ]
  },
  {
   "cell_type": "code",
   "execution_count": 19,
   "id": "3d7b1bae",
   "metadata": {},
   "outputs": [],
   "source": [
    "zillow= wrangle_zillow()"
   ]
  },
  {
   "cell_type": "code",
   "execution_count": 20,
   "id": "6ed3cbb3",
   "metadata": {},
   "outputs": [
    {
     "data": {
      "text/plain": [
       "bedroom_count              0\n",
       "bathroom_count             0\n",
       "calc_finished_square_ft    0\n",
       "tax_value_dollar_count     0\n",
       "year_built                 0\n",
       "tax_amount                 0\n",
       "fips_code                  0\n",
       "dtype: int64"
      ]
     },
     "execution_count": 20,
     "metadata": {},
     "output_type": "execute_result"
    }
   ],
   "source": [
    "zillow.isnull().sum()"
   ]
  },
  {
   "cell_type": "code",
   "execution_count": 21,
   "id": "2a774638",
   "metadata": {},
   "outputs": [
    {
     "data": {
      "text/plain": [
       "(2140235, 7)"
      ]
     },
     "execution_count": 21,
     "metadata": {},
     "output_type": "execute_result"
    }
   ],
   "source": [
    "zillow.shape"
   ]
  },
  {
   "cell_type": "markdown",
   "id": "0899c0da",
   "metadata": {},
   "source": [
    "# Move wrangle_zillow function to .py"
   ]
  },
  {
   "cell_type": "code",
   "execution_count": null,
   "id": "54e88627",
   "metadata": {},
   "outputs": [],
   "source": []
  }
 ],
 "metadata": {
  "kernelspec": {
   "display_name": "Python 3 (ipykernel)",
   "language": "python",
   "name": "python3"
  },
  "language_info": {
   "codemirror_mode": {
    "name": "ipython",
    "version": 3
   },
   "file_extension": ".py",
   "mimetype": "text/x-python",
   "name": "python",
   "nbconvert_exporter": "python",
   "pygments_lexer": "ipython3",
   "version": "3.9.13"
  }
 },
 "nbformat": 4,
 "nbformat_minor": 5
}
